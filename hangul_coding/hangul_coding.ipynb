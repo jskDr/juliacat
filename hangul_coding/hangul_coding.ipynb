{
 "metadata": {
  "language": "Julia",
  "name": ""
 },
 "nbformat": 3,
 "nbformat_minor": 0,
 "worksheets": [
  {
   "cells": [
    {
     "cell_type": "code",
     "collapsed": false,
     "input": [
      "# hangul_coding.jl\n",
      "#                           wookay.noh at gmail.com\n",
      "\n",
      "const \ub0c9\ubb34 = nothing\n",
      "const \uacf5\ubc31 = \" \"\n",
      "macro _w_str(s)\n",
      "  Expr(:call, ()->split(s, \uacf5\ubc31))\n",
      "end\n",
      "const \uccab\uc18c\ub9ac\uc21c\uc11c = _w\"\u3131 \u3132 \u3134 \u3137 \u3138 \u3139 \u3141 \u3142 \u3143 \u3145 \u3146 \u3147 \u3148 \u3149 \u314a \u314b \u314c \u314d \u314e\"\n",
      "const \uac00\uc6b4\ub383\uc18c\ub9ac\uc21c\uc11c = _w\"\u314f \u3150 \u3151 \u3152 \u3153 \u3154 \u3155 \u3156 \u3157 \u3158 \u3159 \u315a \u315b \u315c \u315d \u315e \u315f \u3160 \u3161 \u3162 \u3163\"\n",
      "const \ub05d\uc18c\ub9ac\uc21c\uc11c = vcat([\ub0c9\ubb34], _w\"\u3131 \u3132 \u3133 \u3134 \u3135 \u3136 \u3137 \u3139 \u313a \u313b \u313c \u313d \u313e \u313f \u3140 \u3141 \u3142 \u3144 \u3145 \u3146 \u3147 \u3148 \u314a \u314b \u314c \u314d \u314e\")\n",
      "const \uac00\uc6b4\ub383\uc18c\ub9ac\uc624\ud504\uc14b = 28\n",
      "const \uccab\uc18c\ub9ac\uc624\ud504\uc14b = 21\uac00\uc6b4\ub383\uc18c\ub9ac\uc624\ud504\uc14b\n",
      "const \uac00 = 0xAC00\n",
      "\n",
      "type \ub2ff \uc18c\ub9ac\n",
      "end\n",
      "type \ud640 \uc18c\ub9ac\n",
      "end\n",
      "type \ub0b1 \uc18c\ub9ac\n",
      "end\n",
      "\n",
      "function ==(\uac11::\ub2ff, \uc744::\ub2ff)\n",
      "  \uac11.\uc18c\ub9ac == \uc744.\uc18c\ub9ac\n",
      "end\n",
      "function ==(\uac11::\ud640, \uc744::\ud640)\n",
      "  \uac11.\uc18c\ub9ac == \uc744.\uc18c\ub9ac\n",
      "end\n",
      "function ==(\uac11::\ub0b1, \uc744::\ub0b1)\n",
      "  \uac11.\uc18c\ub9ac == \uc744.\uc18c\ub9ac\n",
      "end\n",
      "\n",
      "function +(\uccab::\ub2ff, \uac00\uc6b4\ub383::\ud640)\n",
      "  +(\uccab::\ub2ff, \uac00\uc6b4\ub383::\ud640, \ub2ff(\ub0c9\ubb34))\n",
      "end\n",
      "\n",
      "index(\uc21c\uc11c, \uc18c\ub9ac) = findin(\uc21c\uc11c, [\uc18c\ub9ac])[1]\n",
      "function +(\uccab::\ub2ff, \uac00\uc6b4\ub383::\ud640, \ub05d::\ub2ff)\n",
      "  \uac12 = \uac00 +\n",
      "    (index(\uccab\uc18c\ub9ac\uc21c\uc11c, \uccab.\uc18c\ub9ac) - 1) * \uccab\uc18c\ub9ac\uc624\ud504\uc14b +\n",
      "    (index(\uac00\uc6b4\ub383\uc18c\ub9ac\uc21c\uc11c, \uac00\uc6b4\ub383.\uc18c\ub9ac) - 1) * \uac00\uc6b4\ub383\uc18c\ub9ac\uc624\ud504\uc14b +\n",
      "    (index(\ub05d\uc18c\ub9ac\uc21c\uc11c, \ub05d.\uc18c\ub9ac) - 1)\n",
      "  \ub0b1(string(char(\uac12)))\n",
      "end\n",
      "\n",
      "\u3131, \u3132, \u3134, \u3137, \u3138, \u3139, \u3141, \u3142, \u3143, \u3145, \u3146, \u3147, \u3148, \u3149, \u314a, \u314b, \u314c, \u314d, \u314e = \ub2ff(\"\u3131\"), \ub2ff(\"\u3132\"), \ub2ff(\"\u3134\"), \ub2ff(\"\u3137\"), \ub2ff(\"\u3138\"), \ub2ff(\"\u3139\"), \ub2ff(\"\u3141\"), \ub2ff(\"\u3142\"), \ub2ff(\"\u3143\"), \ub2ff(\"\u3145\"), \ub2ff(\"\u3146\"), \ub2ff(\"\u3147\"), \ub2ff(\"\u3148\"), \ub2ff(\"\u3149\"), \ub2ff(\"\u314a\"), \ub2ff(\"\u314b\"), \ub2ff(\"\u314c\"), \ub2ff(\"\u314d\"), \ub2ff(\"\u314e\")\n",
      "\u314f, \u3150, \u3151, \u3152, \u3153, \u3154, \u3155, \u3156, \u3157, \u3158, \u3159, \u315a, \u315b, \u315c, \u315d, \u315e, \u315f, \u3160, \u3161, \u3162, \u3163 = \ud640(\"\u314f\"), \ud640(\"\u3150\"), \ud640(\"\u3151\"), \ud640(\"\u3152\"), \ud640(\"\u3153\"), \ud640(\"\u3154\"), \ud640(\"\u3155\"), \ud640(\"\u3156\"), \ud640(\"\u3157\"), \ud640(\"\u3158\"), \ud640(\"\u3159\"), \ud640(\"\u315a\"), \ud640(\"\u315b\"), \ud640(\"\u315c\"), \ud640(\"\u315d\"), \ud640(\"\u315e\"), \ud640(\"\u315f\"), \ud640(\"\u3160\"), \ud640(\"\u3161\"), \ud640(\"\u3162\"), \ud640(\"\u3163\")\n",
      "\u3133, \u3135, \u3136, \u313a, \u313b, \u313c, \u313d, \u313e, \u313f, \u3140, \u3144 = \ub2ff(\"\u3133\"), \ub2ff(\"\u3135\"), \ub2ff(\"\u3136\"), \ub2ff(\"\u313a\"), \ub2ff(\"\u313b\"), \ub2ff(\"\u313c\"), \ub2ff(\"\u313d\"), \ub2ff(\"\u313e\"), \ub2ff(\"\u313f\"), \ub2ff(\"\u3140\"), \ub2ff(\"\u3144\")\n",
      "\n",
      "\ub0c9\ubb34 "
     ],
     "language": "python",
     "metadata": {},
     "outputs": [],
     "prompt_number": 1
    },
    {
     "cell_type": "code",
     "collapsed": false,
     "input": [
      "typeof(\u314e)"
     ],
     "language": "python",
     "metadata": {},
     "outputs": [
      {
       "metadata": {},
       "output_type": "pyout",
       "prompt_number": 2,
       "text": [
        "\ub2ff (constructor with 1 method)"
       ]
      }
     ],
     "prompt_number": 2
    },
    {
     "cell_type": "code",
     "collapsed": false,
     "input": [
      "typeof(\u314f)"
     ],
     "language": "python",
     "metadata": {},
     "outputs": [
      {
       "metadata": {},
       "output_type": "pyout",
       "prompt_number": 3,
       "text": [
        "\ud640 (constructor with 1 method)"
       ]
      }
     ],
     "prompt_number": 3
    },
    {
     "cell_type": "code",
     "collapsed": false,
     "input": [
      "typeof(\u314e+\u314f+\u3134)"
     ],
     "language": "python",
     "metadata": {},
     "outputs": [
      {
       "metadata": {},
       "output_type": "pyout",
       "prompt_number": 4,
       "text": [
        "\ub0b1 (constructor with 1 method)"
       ]
      }
     ],
     "prompt_number": 4
    },
    {
     "cell_type": "code",
     "collapsed": false,
     "input": [
      "\u314e "
     ],
     "language": "python",
     "metadata": {},
     "outputs": [
      {
       "metadata": {},
       "output_type": "pyout",
       "prompt_number": 5,
       "text": [
        "\ub2ff(\"\u314e\")"
       ]
      }
     ],
     "prompt_number": 5
    },
    {
     "cell_type": "code",
     "collapsed": false,
     "input": [
      "\u314f"
     ],
     "language": "python",
     "metadata": {},
     "outputs": [
      {
       "metadata": {},
       "output_type": "pyout",
       "prompt_number": 6,
       "text": [
        "\ud640(\"\u314f\")"
       ]
      }
     ],
     "prompt_number": 6
    },
    {
     "cell_type": "code",
     "collapsed": false,
     "input": [
      "\u314e+\u314f+\u3134"
     ],
     "language": "python",
     "metadata": {},
     "outputs": [
      {
       "metadata": {},
       "output_type": "pyout",
       "prompt_number": 7,
       "text": [
        "\ub0b1(\"\ud55c\")"
       ]
      }
     ],
     "prompt_number": 7
    },
    {
     "cell_type": "code",
     "collapsed": false,
     "input": [
      "\u314e.\uc18c\ub9ac "
     ],
     "language": "python",
     "metadata": {},
     "outputs": [
      {
       "metadata": {},
       "output_type": "pyout",
       "prompt_number": 8,
       "text": [
        "\"\u314e\""
       ]
      }
     ],
     "prompt_number": 8
    },
    {
     "cell_type": "code",
     "collapsed": false,
     "input": [
      "\u314f.\uc18c\ub9ac "
     ],
     "language": "python",
     "metadata": {},
     "outputs": [
      {
       "metadata": {},
       "output_type": "pyout",
       "prompt_number": 9,
       "text": [
        "\"\u314f\""
       ]
      }
     ],
     "prompt_number": 9
    },
    {
     "cell_type": "code",
     "collapsed": false,
     "input": [
      "(\u314e+\u314f+\u3134).\uc18c\ub9ac"
     ],
     "language": "python",
     "metadata": {},
     "outputs": [
      {
       "metadata": {},
       "output_type": "pyout",
       "prompt_number": 10,
       "text": [
        "\"\ud55c\""
       ]
      }
     ],
     "prompt_number": 10
    },
    {
     "cell_type": "code",
     "collapsed": false,
     "input": [
      "(\u3131+\u3161+\u3139).\uc18c\ub9ac"
     ],
     "language": "python",
     "metadata": {},
     "outputs": [
      {
       "metadata": {},
       "output_type": "pyout",
       "prompt_number": 11,
       "text": [
        "\"\uae00\""
       ]
      }
     ],
     "prompt_number": 11
    },
    {
     "cell_type": "code",
     "collapsed": false,
     "input": [
      "(\u3147+\u3163).\uc18c\ub9ac"
     ],
     "language": "python",
     "metadata": {},
     "outputs": [
      {
       "metadata": {},
       "output_type": "pyout",
       "prompt_number": 12,
       "text": [
        "\"\uc774\""
       ]
      }
     ],
     "prompt_number": 12
    },
    {
     "cell_type": "code",
     "collapsed": false,
     "input": [
      "help(\u3131)"
     ],
     "language": "python",
     "metadata": {},
     "outputs": [
      {
       "output_type": "stream",
       "stream": "stdout",
       "text": [
        "\ub2ff("
       ]
      },
      {
       "output_type": "stream",
       "stream": "stdout",
       "text": [
        "\"\u3131\") is of type\n"
       ]
      },
      {
       "output_type": "stream",
       "stream": "stderr",
       "text": [
        "INFO: Loading help data..."
       ]
      },
      {
       "output_type": "stream",
       "stream": "stdout",
       "text": [
        "DataType   : "
       ]
      },
      {
       "output_type": "stream",
       "stream": "stderr",
       "text": [
        "\n"
       ]
      },
      {
       "output_type": "stream",
       "stream": "stdout",
       "text": [
        "\ub2ff (constructor with 1 method)\n",
        "  supertype: Any\n",
        "  fields   : (:\uc18c\ub9ac,)\n"
       ]
      }
     ],
     "prompt_number": 13
    },
    {
     "cell_type": "code",
     "collapsed": false,
     "input": [
      "@show \u3131+\u314f+\u3147"
     ],
     "language": "python",
     "metadata": {},
     "outputs": [
      {
       "output_type": "stream",
       "stream": "stdout",
       "text": [
        "\u3131 + \u314f + \u3147 => \ub0b1(\"\uac15\")"
       ]
      },
      {
       "output_type": "stream",
       "stream": "stdout",
       "text": [
        "\n"
       ]
      },
      {
       "metadata": {},
       "output_type": "pyout",
       "prompt_number": 14,
       "text": [
        "\ub0b1(\"\uac15\")"
       ]
      }
     ],
     "prompt_number": 14
    },
    {
     "cell_type": "code",
     "collapsed": false,
     "input": [
      "@which \u3131+\u314f+\u3147"
     ],
     "language": "python",
     "metadata": {},
     "outputs": [
      {
       "html": [
        "+(\uccab::<b>\ub2ff</b>,\uac00\uc6b4\ub383::<b>\ud640</b>,\ub05d::<b>\ub2ff</b>) at In[1]:39"
       ],
       "metadata": {},
       "output_type": "pyout",
       "prompt_number": 15,
       "text": [
        "+(\uccab::\ub2ff,\uac00\uc6b4\ub383::\ud640,\ub05d::\ub2ff) at In[1]:39"
       ]
      }
     ],
     "prompt_number": 15
    },
    {
     "cell_type": "code",
     "collapsed": false,
     "input": [],
     "language": "python",
     "metadata": {},
     "outputs": []
    }
   ],
   "metadata": {}
  }
 ]
}